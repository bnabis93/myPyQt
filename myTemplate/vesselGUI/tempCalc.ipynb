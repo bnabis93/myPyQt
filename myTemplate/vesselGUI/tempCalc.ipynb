{
 "cells": [
  {
   "cell_type": "code",
   "execution_count": 3,
   "metadata": {},
   "outputs": [],
   "source": [
    "import numpy as np\n",
    "import math\n"
   ]
  },
  {
   "cell_type": "code",
   "execution_count": 24,
   "metadata": {},
   "outputs": [],
   "source": [
    "def getPhase(vR,vC,vL):\n",
    "    print(np.arctan((vL - vC)/vR) )\n",
    "    \n",
    "def getEm(vR,vC,vL):\n",
    "    print(np.sqrt(vR**2 + (vL-vC)**2))\n",
    "    \n",
    "def getR(V,I):\n",
    "    return (V/I)\n",
    "\n",
    "def getZ(V,I,vC,vL):\n",
    "    r = getR(V,I)\n",
    "    print(np.sqrt(r**2 + (vL - vC)**2))\n",
    "    "
   ]
  },
  {
   "cell_type": "code",
   "execution_count": 47,
   "metadata": {},
   "outputs": [
    {
     "name": "stdout",
     "output_type": "stream",
     "text": [
      "0.6678325892598049\n",
      "0.452133829745132\n",
      "4761.904770136762\n"
     ]
    }
   ],
   "source": [
    "v = 4.0\n",
    "i = 84/100000\n",
    "vR = 0.355\n",
    "vC = 1.046\n",
    "vL = 1.326\n",
    "\n",
    "\n",
    "\n",
    "getPhase(vR,vC,vL)\n",
    "getEm(vR,vC,vL)\n",
    "getZ(v,i,vC,vL)\n",
    "\n"
   ]
  },
  {
   "cell_type": "code",
   "execution_count": null,
   "metadata": {},
   "outputs": [],
   "source": []
  }
 ],
 "metadata": {
  "kernelspec": {
   "display_name": "Python 3",
   "language": "python",
   "name": "python3"
  },
  "language_info": {
   "codemirror_mode": {
    "name": "ipython",
    "version": 3
   },
   "file_extension": ".py",
   "mimetype": "text/x-python",
   "name": "python",
   "nbconvert_exporter": "python",
   "pygments_lexer": "ipython3",
   "version": "3.5.5"
  }
 },
 "nbformat": 4,
 "nbformat_minor": 2
}
